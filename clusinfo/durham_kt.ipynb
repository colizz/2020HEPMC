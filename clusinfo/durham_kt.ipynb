{
 "cells": [
  {
   "cell_type": "markdown",
   "metadata": {},
   "source": [
    "## LHE reader"
   ]
  },
  {
   "cell_type": "code",
   "execution_count": 1,
   "metadata": {},
   "outputs": [],
   "source": [
    "from __future__ import print_function"
   ]
  },
  {
   "cell_type": "code",
   "execution_count": 2,
   "metadata": {},
   "outputs": [],
   "source": [
    "import uproot\n",
    "from uproot_methods import TLorentzVectorArray, TLorentzVector\n",
    "import numpy as np\n",
    "import re\n",
    "from itertools import combinations\n",
    "from pprint import pprint"
   ]
  },
  {
   "cell_type": "code",
   "execution_count": 3,
   "metadata": {},
   "outputs": [],
   "source": [
    "events = {'part': [], 'clus': []}\n",
    "with open('cmsgrid_final.lhe') as f:\n",
    "    lines = f.readlines()\n",
    "    nlines, i = len(lines), 0\n",
    "    while i < nlines:\n",
    "        l = lines[i].strip()\n",
    "        if l=='<event>':\n",
    "            ## enter the event block\n",
    "            npart = int(lines[i+1].split()[0])\n",
    "            part_info = []\n",
    "            for j in range(npart):\n",
    "                ltmp = lines[i+j+2].split()\n",
    "                part_info.append(tuple([int(ltmp[0]), int(ltmp[1])] + [float(ltmp[k]) for k in range(6,11)]))\n",
    "            events['part'].append(part_info)\n",
    "            i += npart\n",
    "        if l=='<clustering>':\n",
    "            clus_info, iclus = [], 0\n",
    "            while lines[i+iclus+1][:5]=='<clus':\n",
    "                ltmp = re.findall('[a-z0-9\\.\\-]+', lines[i+iclus+1])\n",
    "                clus_info.append(tuple([float(ltmp[2])] + [int(ltmp[k]) for k in range(3,7)]))\n",
    "                iclus += 1\n",
    "            events['clus'].append(clus_info)\n",
    "            i += iclus\n",
    "        i += 1"
   ]
  },
  {
   "cell_type": "code",
   "execution_count": 4,
   "metadata": {},
   "outputs": [
    {
     "name": "stdout",
     "output_type": "stream",
     "text": [
      "--- Start iteration 1 , particle list: [3, 4, 5]  ---\n",
      "\n",
      "{3: 439.4119777027959,\n",
      " 4: 7.620114796312987,\n",
      " 5: 438.16433708218017,\n",
      " (3, 4): 10.235070036786762,\n",
      " (3, 5): 776.6164049831569,\n",
      " (4, 5): 9.273753292535666}\n",
      "find minimum Durham kT at index: 4 ,  value = 7.62011479631 \n",
      "\n",
      "--- Start iteration 2 , particle list: [3, 5]  ---\n",
      "\n",
      "{3: 439.4119777027959, 5: 438.16433708218017, (3, 5): 776.6164049831569}\n",
      "find minimum Durham kT at index: 5 ,  value = 438.164337082 \n",
      "\n",
      "--- Start iteration 3 , particle list: [3]  ---\n",
      "\n",
      "{3: 439.4119777027959}\n",
      "find minimum Durham kT at index: 3 ,  value = 439.411977703 \n",
      "\n"
     ]
    }
   ],
   "source": [
    "ie=3\n",
    "part_info = np.array(events['part'][ie])\n",
    "p4 = list(TLorentzVectorArray.from_cartesian(part_info[:,2], part_info[:,3], part_info[:,4], part_info[:,5]))\n",
    "iterlist = list(range(2, len(p4)))\n",
    "for i in iterlist:\n",
    "    if part_info[i,1] == 2: # statu=2 => intermidate particle\n",
    "        iterlist.remove(i)\n",
    "istep = 1\n",
    "while len(iterlist) > 0:\n",
    "    print('--- Start iteration', istep, ', particle list:', iterlist, ' ---\\n')\n",
    "    ktpool = {}\n",
    "    for i in iterlist:\n",
    "#         ktpool[i] = np.sqrt(p4[i].energy**2 - p4[i].z**2)\n",
    "        ktpool[i] = p4[i].pt\n",
    "    for i, j in combinations(iterlist, 2):\n",
    "        ktpool[(i,j)] = np.sqrt(max(p4[i].mag2, p4[j].mag2) + min(p4[i].pt2, p4[j].pt2) * p4[i].delta_r(p4[j]))\n",
    "#         p4ij = p4[i]+p4[j]; ktpool[(i,j)] = np.sqrt(p4ij.energy**2 - p4ij.z**2)\n",
    "#         p4ij = p4[i]+p4[j]; ktpool[(i,j)] = p4ij.mass\n",
    "    \n",
    "    pprint(ktpool)\n",
    "\n",
    "    minkey = min(ktpool, key=ktpool.get)\n",
    "    if isinstance(minkey, int):\n",
    "        iterlist.remove(minkey)\n",
    "    else:\n",
    "        p4[minkey[0]] += p4[minkey[1]]\n",
    "        iterlist.remove(minkey[1]) # remove j while keep i\n",
    "    print('find minimum Durham kT at index:', minkey, ',  value =', ktpool[minkey], '\\n')\n",
    "    istep += 1"
   ]
  },
  {
   "cell_type": "code",
   "execution_count": 5,
   "metadata": {},
   "outputs": [
    {
     "data": {
      "text/plain": [
       "[(90.012, 4, 5, -1, -1), (438.165, 4, 6, -1, -1), (897.144, 2, 4, 1, -1)]"
      ]
     },
     "execution_count": 5,
     "metadata": {},
     "output_type": "execute_result"
    }
   ],
   "source": [
    "events['clus'][ie]"
   ]
  },
  {
   "cell_type": "code",
   "execution_count": null,
   "metadata": {},
   "outputs": [],
   "source": []
  }
 ],
 "metadata": {
  "kernelspec": {
   "display_name": "Python 2",
   "language": "python",
   "name": "python2"
  },
  "language_info": {
   "codemirror_mode": {
    "name": "ipython",
    "version": 2
   },
   "file_extension": ".py",
   "mimetype": "text/x-python",
   "name": "python",
   "nbconvert_exporter": "python",
   "pygments_lexer": "ipython2",
   "version": "2.7.15+"
  }
 },
 "nbformat": 4,
 "nbformat_minor": 4
}
